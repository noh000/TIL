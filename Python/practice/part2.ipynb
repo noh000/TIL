{
 "cells": [
  {
   "cell_type": "markdown",
   "id": "61fa5f2f",
   "metadata": {},
   "source": [
    "### 11번. 1부터 100까지 숫자 중 5의 배수만 리스트에 저장하여 출력하세요.\n",
    "\n",
    "리스트 내포(List Comprehension)를 사용해도 좋습니다.\n",
    "\n",
    "📌 출력 예시:\n",
    "```\n",
    "[5, 10, 15, ..., 100]\n",
    "```"
   ]
  },
  {
   "cell_type": "code",
   "execution_count": 46,
   "id": "b8a4860d",
   "metadata": {},
   "outputs": [
    {
     "name": "stdout",
     "output_type": "stream",
     "text": [
      "[5, 10, 15, 20, 25, 30, 35, 40, 45, 50, 55, 60, 65, 70, 75, 80, 85, 90, 95, 100]\n"
     ]
    }
   ],
   "source": [
    "five_list = []\n",
    "num = 0\n",
    "\n",
    "while num < 100:\n",
    "    num += 5\n",
    "    five_list.append(num)\n",
    "print(five_list)"
   ]
  },
  {
   "cell_type": "code",
   "execution_count": null,
   "id": "172f7356",
   "metadata": {},
   "outputs": [
    {
     "name": "stdout",
     "output_type": "stream",
     "text": [
      "[5, 10, 15, 20, 25, 30, 35, 40, 45, 50, 55, 60, 65, 70, 75, 80, 85, 90, 95, 100]\n"
     ]
    }
   ],
   "source": [
    "five_list2 = list(range(5, 101, 5))\n",
    "print(five_list2)"
   ]
  },
  {
   "cell_type": "code",
   "execution_count": null,
   "id": "0d43196f",
   "metadata": {},
   "outputs": [
    {
     "name": "stdout",
     "output_type": "stream",
     "text": [
      "[5, 10, 15, 20, 25, 30, 35, 40, 45, 50, 55, 60, 65, 70, 75, 80, 85, 90, 95, 100]\n"
     ]
    }
   ],
   "source": [
    "# 리스트 내포(List Comprehension)\n",
    "five_list3 = [num for num in range(5, 101, 5)]\n",
    "print(five_list3)"
   ]
  },
  {
   "cell_type": "markdown",
   "id": "91ab613e",
   "metadata": {},
   "source": [
    "### 12번. 짝수만 필터링하여 새로운 리스트 만들기\n",
    "\n",
    "다음 리스트에서 짝수만 골라 새로운 리스트로 만드세요:\n",
    "```python\n",
    "nums = [1,2,3,4,5,6,7,8,9,10]\n",
    "```\n",
    "📌 출력 예시:\n",
    "```\n",
    "[2, 4, 6, 8, 10]\n",
    "```"
   ]
  },
  {
   "cell_type": "code",
   "execution_count": 3,
   "id": "97dbac20",
   "metadata": {},
   "outputs": [
    {
     "name": "stdout",
     "output_type": "stream",
     "text": [
      "[2, 4, 6, 8, 10]\n"
     ]
    }
   ],
   "source": [
    "nums = [1,2,3,4,5,6,7,8,9,10]\n",
    "even_nums = []\n",
    "\n",
    "for num in nums:\n",
    "    if num % 2 == 0:\n",
    "        even_nums.append(num)\n",
    "\n",
    "print(even_nums)"
   ]
  },
  {
   "cell_type": "code",
   "execution_count": 4,
   "id": "e18b9640",
   "metadata": {},
   "outputs": [
    {
     "name": "stdout",
     "output_type": "stream",
     "text": [
      "[2, 4, 6, 8, 10]\n"
     ]
    }
   ],
   "source": [
    "# 리스트 내포(List Comprehension)\n",
    "evne_nums2 = [num for num in nums if num % 2 == 0]\n",
    "print(evne_nums2)"
   ]
  },
  {
   "cell_type": "markdown",
   "id": "f4750fde",
   "metadata": {},
   "source": [
    "### 13번. 딕셔너리에서 가장 비싼 과일 찾기\n",
    "\n",
    "다음 딕셔너리에서 가격이 가장 높은 과일과 그 가격을 출력하세요:\n",
    "```python\n",
    "fruits = {'apple': 1000, 'banana': 500, 'orange': 800}\n",
    "```"
   ]
  },
  {
   "cell_type": "code",
   "execution_count": 12,
   "id": "4440c679",
   "metadata": {},
   "outputs": [
    {
     "name": "stdout",
     "output_type": "stream",
     "text": [
      "apple 1000\n"
     ]
    }
   ],
   "source": [
    "# 컨베이너를 돌려서 확인하자\n",
    "\n",
    "fruits = {'apple': 1000, 'banana': 500, 'orange': 800}\n",
    "\n",
    "max_price = max(fruits.values())\n",
    "\n",
    "for k, v in fruits.items():\n",
    "    if v == max_price:\n",
    "        print(k, v)\n",
    "\n"
   ]
  },
  {
   "cell_type": "markdown",
   "id": "f63a58ef",
   "metadata": {},
   "source": [
    "### 14번. 구구단 3단 출력하기\n",
    "\n",
    "for문을 사용하여 구구단 3단을 출력하세요.\n",
    "\n",
    "📌 출력 예시:\n",
    "```\n",
    "3 x 1 = 3\n",
    "3 x 2 = 6\n",
    "...\n",
    "3 x 9 = 27\n",
    "```"
   ]
  },
  {
   "cell_type": "code",
   "execution_count": 13,
   "id": "82376bb6",
   "metadata": {},
   "outputs": [
    {
     "name": "stdout",
     "output_type": "stream",
     "text": [
      "3 x 1 = 3\n",
      "3 x 2 = 6\n",
      "3 x 3 = 9\n",
      "3 x 4 = 12\n",
      "3 x 5 = 15\n",
      "3 x 6 = 18\n",
      "3 x 7 = 21\n",
      "3 x 8 = 24\n",
      "3 x 9 = 27\n"
     ]
    }
   ],
   "source": [
    "for i in range(1, 10):\n",
    "    print(f'3 x {i} = {3 * i}')"
   ]
  },
  {
   "cell_type": "markdown",
   "id": "1a498a46",
   "metadata": {},
   "source": [
    "### 15번. 문자열에서 각 문자 개수 세기\n",
    "\n",
    "사용자로부터 문자열을 입력받아, 각 문자가 몇 번 나오는지 딕셔너리 형태로 출력하세요.\n",
    "\n",
    "📌 예시 입력: `hello`\n",
    "📌 예시 출력: `{'h':1, 'e':1, 'l':2, 'o':1}`"
   ]
  },
  {
   "cell_type": "code",
   "execution_count": 26,
   "id": "3f9c2e5b",
   "metadata": {},
   "outputs": [
    {
     "name": "stdout",
     "output_type": "stream",
     "text": [
      "{'h': 1, 'o': 1, 'l': 2, 'e': 1}\n"
     ]
    }
   ],
   "source": [
    "text = input(\"문자열을 입력하세요: \")\n",
    "text_dict = {}\n",
    "\n",
    "for char in set(text):\n",
    "    text_dict[char] = text.count(char)\n",
    "\n",
    "print(text_dict)"
   ]
  },
  {
   "cell_type": "code",
   "execution_count": 27,
   "id": "e5a0348d",
   "metadata": {},
   "outputs": [
    {
     "name": "stdout",
     "output_type": "stream",
     "text": [
      "{'h': 1, 'e': 1, 'l': 2, 'o': 1}\n"
     ]
    }
   ],
   "source": [
    "text = input(\"문자열을 입력하세요: \")\n",
    "text_dict2 = {}\n",
    "\n",
    "for char in text:\n",
    "    if char not in text_dict2:\n",
    "        text_dict2[char] = text.count(char)\n",
    "\n",
    "print(text_dict2)"
   ]
  },
  {
   "cell_type": "markdown",
   "id": "1e8e155e",
   "metadata": {},
   "source": [
    "## 복습 필요!!"
   ]
  },
  {
   "cell_type": "code",
   "execution_count": 28,
   "id": "648788ee",
   "metadata": {},
   "outputs": [
    {
     "name": "stdout",
     "output_type": "stream",
     "text": [
      "{'h': 1, 'e': 1, 'l': 2, 'o': 1}\n"
     ]
    }
   ],
   "source": [
    "text = input(\"문자열을 입력하세요: \")\n",
    "text_dict3 = {}\n",
    "\n",
    "for char in text:\n",
    "    text_dict3[char] = text_dict3.get(char, 0) + 1\n",
    "\n",
    "print(text_dict3)"
   ]
  },
  {
   "cell_type": "markdown",
   "id": "e2db8ede",
   "metadata": {},
   "source": [
    "### 첫 글자: `'h'`\n",
    "\n",
    "```python\n",
    "python\n",
    "복사편집\n",
    "text_dict.get('h', 0)  # 딕셔너리에 'h'가 없으니까 0\n",
    "text_dict['h'] = 0 + 1  # 결과: {'h': 1}\n",
    "\n",
    "```\n",
    "\n",
    "### 두 번째 글자: `'e'`\n",
    "\n",
    "```python\n",
    "python\n",
    "복사편집\n",
    "text_dict.get('e', 0)  # 없으니까 0\n",
    "text_dict['e'] = 0 + 1  # 결과: {'h': 1, 'e': 1}\n",
    "\n",
    "```\n",
    "\n",
    "### 세 번째 글자: `'l'`\n",
    "\n",
    "```python\n",
    "python\n",
    "복사편집\n",
    "text_dict.get('l', 0)  # 없으니까 0\n",
    "text_dict['l'] = 0 + 1  # 결과: {'h': 1, 'e': 1, 'l': 1}\n",
    "\n",
    "```\n",
    "\n",
    "### 네 번째 글자: `'l'` (이미 있음!)\n",
    "\n",
    "```python\n",
    "python\n",
    "복사편집\n",
    "text_dict.get('l', 0)  # 이미 1 있으니까 1\n",
    "text_dict['l'] = 1 + 1  # 결과: {'h': 1, 'e': 1, 'l': 2}\n",
    "\n",
    "```"
   ]
  },
  {
   "cell_type": "markdown",
   "id": "6a3f44e9",
   "metadata": {},
   "source": [
    "### 16번. 리스트 정렬과 최대/최소 값 찾기\n",
    "\n",
    "다음 리스트를 오름차순으로 정렬하고, 가장 큰 값과 가장 작은 값을 출력하세요:\n",
    "```python\n",
    "nums = [3, 1, 4, 1, 5, 9, 2, 6]\n",
    "```"
   ]
  },
  {
   "cell_type": "code",
   "execution_count": 29,
   "id": "ecaa5fac",
   "metadata": {},
   "outputs": [
    {
     "name": "stdout",
     "output_type": "stream",
     "text": [
      "9 1\n"
     ]
    }
   ],
   "source": [
    "nums = [3, 1, 4, 1, 5, 9, 2, 6]\n",
    "nums.sort()\n",
    "print(nums[-1], nums[0])"
   ]
  },
  {
   "cell_type": "code",
   "execution_count": 30,
   "id": "b40e4917",
   "metadata": {},
   "outputs": [
    {
     "name": "stdout",
     "output_type": "stream",
     "text": [
      "9 1\n"
     ]
    }
   ],
   "source": [
    "nums = [3, 1, 4, 1, 5, 9, 2, 6]\n",
    "print((sorted(nums)[-1]), (sorted(nums)[0]))"
   ]
  },
  {
   "cell_type": "markdown",
   "id": "21f6f2d0",
   "metadata": {},
   "source": [
    "### 17번. 회문(Palindrome) 검사\n",
    "\n",
    "입력받은 단어가 앞에서 읽든 뒤에서 읽든 같은 단어인지 확인하는 프로그램을 작성하세요.\n",
    "\n",
    "📌 예시: `level` → 회문 / `hello` → 회문 아님"
   ]
  },
  {
   "cell_type": "code",
   "execution_count": 32,
   "id": "5e7b6989",
   "metadata": {},
   "outputs": [
    {
     "name": "stdout",
     "output_type": "stream",
     "text": [
      "회문 아님\n"
     ]
    }
   ],
   "source": [
    "word = input(\"단어를 입력하세요: \")\n",
    "\n",
    "if word == word[::-1]:\n",
    "    print('회문')\n",
    "else:\n",
    "    print('회문 아님')"
   ]
  },
  {
   "cell_type": "markdown",
   "id": "4e83b9ca",
   "metadata": {},
   "source": [
    "### 18번. 집합 연산: 합집합, 교집합, 차집합\n",
    "\n",
    "다음 두 집합의 합집합, 교집합, 차집합을 구하세요:\n",
    "```python\n",
    "A = {1, 2, 3, 4, 5}\n",
    "B = {4, 5, 6, 7, 8}\n",
    "```"
   ]
  },
  {
   "cell_type": "code",
   "execution_count": 33,
   "id": "6c1c77ae",
   "metadata": {},
   "outputs": [
    {
     "name": "stdout",
     "output_type": "stream",
     "text": [
      "{1, 2, 3, 4, 5, 6, 7, 8}\n",
      "{4, 5}\n",
      "{1, 2, 3}\n"
     ]
    }
   ],
   "source": [
    "A = {1, 2, 3, 4, 5}\n",
    "B = {4, 5, 6, 7, 8}\n",
    "print(A | B)\n",
    "print(A & B)\n",
    "print(A - B)"
   ]
  },
  {
   "cell_type": "markdown",
   "id": "e49db016",
   "metadata": {},
   "source": [
    "### 19번. 1부터 n까지의 합 구하기\n",
    "\n",
    "사용자로부터 정수 n을 입력받아 1부터 n까지의 합을 구하는 프로그램을 작성하세요."
   ]
  },
  {
   "cell_type": "code",
   "execution_count": 37,
   "id": "5e772a52",
   "metadata": {},
   "outputs": [
    {
     "name": "stdout",
     "output_type": "stream",
     "text": [
      "55\n"
     ]
    }
   ],
   "source": [
    "n = int(input(\"정수를 입력하세요: \"))\n",
    "\n",
    "print(int(n * (n + 1) / 2))"
   ]
  },
  {
   "cell_type": "code",
   "execution_count": 36,
   "id": "bb936c02",
   "metadata": {},
   "outputs": [
    {
     "name": "stdout",
     "output_type": "stream",
     "text": [
      "55\n"
     ]
    }
   ],
   "source": [
    "n = int(input(\"정수를 입력하세요: \"))\n",
    "total = 0\n",
    "\n",
    "for i in range(1, n+1):\n",
    "    total += i\n",
    "\n",
    "print(total)"
   ]
  },
  {
   "cell_type": "markdown",
   "id": "c8ae9f8e",
   "metadata": {},
   "source": [
    "### 20번. 리스트에서 중복 제거\n",
    "\n",
    "다음 리스트에서 중복된 값을 제거하고 유일한 값만 남긴 리스트를 출력하세요:\n",
    "```python\n",
    "nums = [1, 2, 2, 3, 4, 4, 5]\n",
    "```"
   ]
  },
  {
   "cell_type": "code",
   "execution_count": 38,
   "id": "0b9d2135",
   "metadata": {},
   "outputs": [
    {
     "name": "stdout",
     "output_type": "stream",
     "text": [
      "[1, 2, 3, 4, 5]\n"
     ]
    }
   ],
   "source": [
    "nums = [1, 2, 2, 3, 4, 4, 5]\n",
    "\n",
    "distinct_list = list(set(nums))\n",
    "print(distinct_list)"
   ]
  }
 ],
 "metadata": {
  "kernelspec": {
   "display_name": "Python 3",
   "language": "python",
   "name": "python3"
  },
  "language_info": {
   "codemirror_mode": {
    "name": "ipython",
    "version": 3
   },
   "file_extension": ".py",
   "mimetype": "text/x-python",
   "name": "python",
   "nbconvert_exporter": "python",
   "pygments_lexer": "ipython3",
   "version": "3.13.2"
  }
 },
 "nbformat": 4,
 "nbformat_minor": 5
}

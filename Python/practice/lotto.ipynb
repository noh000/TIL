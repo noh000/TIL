{
 "cells": [
  {
   "cell_type": "code",
   "execution_count": 15,
   "id": "868ae509",
   "metadata": {},
   "outputs": [],
   "source": [
    "import random\n",
    "my_numbers = random.sample(range(1, 46), 6)"
   ]
  },
  {
   "cell_type": "code",
   "execution_count": 3,
   "id": "064b0eb2",
   "metadata": {},
   "outputs": [],
   "source": [
    "import requests\n",
    "URL = 'https://www.dhlottery.co.kr/common.do?method=getLottoNumber&drwNo=1181'\n",
    "res = requests.get(URL)"
   ]
  },
  {
   "cell_type": "code",
   "execution_count": 4,
   "id": "eaa30efb",
   "metadata": {},
   "outputs": [],
   "source": [
    "data = res.json()"
   ]
  },
  {
   "cell_type": "code",
   "execution_count": 5,
   "id": "a8127793",
   "metadata": {},
   "outputs": [
    {
     "data": {
      "text/plain": [
       "([8, 10, 14, 20, 33, 41], 28)"
      ]
     },
     "execution_count": 5,
     "metadata": {},
     "output_type": "execute_result"
    }
   ],
   "source": [
    "my_numbers, data\n",
    "\n",
    "real_numbers = []\n",
    "for n in range(1,7):\n",
    "    real_numbers.append(data[f'drwtNo{n}'])\n",
    "\n",
    "bonus = data['bnusNo']\n",
    "\n",
    "real_numbers, bonus\n"
   ]
  },
  {
   "cell_type": "code",
   "execution_count": null,
   "id": "a3e307a9",
   "metadata": {},
   "outputs": [
    {
     "data": {
      "text/plain": [
       "6"
      ]
     },
     "execution_count": 11,
     "metadata": {},
     "output_type": "execute_result"
    }
   ],
   "source": [
    "real_numbers, my_numbers\n",
    "\n",
    "my_numbers = [8, 10, 14, 20, 33, 41]\n",
    "def lotto_count(numbers):\n",
    "    result = 0\n",
    "    for i in range(6):\n",
    "        if real_numbers[i] in my_numbers:\n",
    "            result += 1\n",
    "    return result\n",
    "\n",
    "lotto_count(my_numbers)\n"
   ]
  },
  {
   "cell_type": "code",
   "execution_count": 50,
   "id": "8581501f",
   "metadata": {},
   "outputs": [
    {
     "data": {
      "text/plain": [
       "'꽝'"
      ]
     },
     "execution_count": 50,
     "metadata": {},
     "output_type": "execute_result"
    }
   ],
   "source": [
    "import random\n",
    "my_numbers = random.sample(range(1, 46), 6)\n",
    "\n",
    "def lotto_rank(numbers):\n",
    "    def lotto_count(numbers):\n",
    "        result = 0\n",
    "        for i in range(6):\n",
    "            if real_numbers[i] in numbers:\n",
    "                result += 1\n",
    "        return result\n",
    "    \n",
    "    count_num = lotto_count(numbers)\n",
    "    if count_num == 6:\n",
    "        return '1등'\n",
    "    elif count_num == 5 and bonus in numbers:\n",
    "        return '2등'\n",
    "    elif count_num == 5:\n",
    "        return '3등'\n",
    "    elif count_num == 4:\n",
    "        return '4등'\n",
    "    elif count_num == 3:\n",
    "        return '5등'\n",
    "    else:\n",
    "        return '꽝'\n",
    "        \n",
    "lotto_rank(my_numbers)\n",
    "    "
   ]
  },
  {
   "cell_type": "markdown",
   "id": "10df90d4",
   "metadata": {},
   "source": [
    "✅ 1. if 문을 반복문으로 바꿀 수 있을까?\n",
    "가능해.\n",
    "힌트만 줄게!\n",
    "\n",
    "등수는 맞춘 개수(count_num)에 따라 정해져.\n",
    "\n",
    "등수는 딕셔너리를 써서 맞춘 개수 ➝ 등수로 매핑할 수 있어.\n",
    "\n",
    "단, 보너스 번호를 맞췄는지 여부는 예외 처리로 따로 분기해줘야 해. (5개 맞춘 경우만)\n",
    "\n",
    "예시로 보면:\n",
    "```python\n",
    "rank_map = {6: '1등', 5: '3등', 4: '4등', 3: '5등'}\n",
    "```\n",
    "이런 식으로 만들어 놓고 count_num을 키로 사용하면 if-elif 없이 깔끔하게 정리 가능해."
   ]
  },
  {
   "cell_type": "code",
   "execution_count": null,
   "id": "49a8fa3e",
   "metadata": {},
   "outputs": [],
   "source": [
    "def lotto_rank(my_numbers, real_numbers, bonus):\n",
    "    count = len(set(my_numbers) & set(real_numbers))  # 집합은 set 만 가능!!\n",
    "    has_bonus = bonus in my_numbers\n",
    "\n",
    "    if count == 5 and has_bonus:\n",
    "        return '2등'\n",
    "\n",
    "    rank_map = {6: '1등', 5: '3등', 4: '4등', 3: '5등'}\n",
    "    return rank_map.get(count, '꽝')\n"
   ]
  }
 ],
 "metadata": {
  "kernelspec": {
   "display_name": "Python 3",
   "language": "python",
   "name": "python3"
  },
  "language_info": {
   "codemirror_mode": {
    "name": "ipython",
    "version": 3
   },
   "file_extension": ".py",
   "mimetype": "text/x-python",
   "name": "python",
   "nbconvert_exporter": "python",
   "pygments_lexer": "ipython3",
   "version": "3.13.2"
  }
 },
 "nbformat": 4,
 "nbformat_minor": 5
}

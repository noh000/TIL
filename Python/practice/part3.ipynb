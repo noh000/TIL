{
 "cells": [
  {
   "cell_type": "markdown",
   "id": "015c665a",
   "metadata": {},
   "source": [
    "### 22번 문제\n",
    "학생들의 성적 딕셔너리를 만들고, 평균 점수를 계산하여 평균 이상인 학생들만 출력하세요."
   ]
  },
  {
   "cell_type": "code",
   "execution_count": 9,
   "id": "3e3ee36e",
   "metadata": {},
   "outputs": [
    {
     "name": "stdout",
     "output_type": "stream",
     "text": [
      "Alice 85\n",
      "Charlie 90\n"
     ]
    }
   ],
   "source": [
    "scores = {'Alice': 85, 'Bob': 72, 'Charlie': 90, 'David': 60}\n",
    "avg = sum(scores.values()) / len(scores.values())\n",
    "\n",
    "for k, v in scores.items():\n",
    "    if v >= avg:\n",
    "        print(k, v)"
   ]
  },
  {
   "cell_type": "markdown",
   "id": "cf788c80",
   "metadata": {},
   "source": [
    "### 23번 문제\n",
    "주어진 문자열에서 숫자만 추출하여 합계를 구하는 프로그램을 작성하세요."
   ]
  },
  {
   "cell_type": "code",
   "execution_count": 19,
   "id": "7ea517c6",
   "metadata": {},
   "outputs": [
    {
     "name": "stdout",
     "output_type": "stream",
     "text": [
      "10\n"
     ]
    }
   ],
   "source": [
    "text = \"a1b2c3d4\"\n",
    "total = 0\n",
    "\n",
    "for i in text:\n",
    "    if i.isdigit():  # 문자가 숫자인지 확인\n",
    "        total += int(i)\n",
    "\n",
    "print(total)"
   ]
  },
  {
   "cell_type": "code",
   "execution_count": 26,
   "id": "0a10b295",
   "metadata": {},
   "outputs": [
    {
     "name": "stdout",
     "output_type": "stream",
     "text": [
      "10\n"
     ]
    }
   ],
   "source": [
    "text = \"a1b2c3d4\"\n",
    "int_list = [int(i) for i in text if i.isdigit()]\n",
    "total = 0\n",
    "\n",
    "for num in int_list:\n",
    "    total += num\n",
    "\n",
    "print(total)\n"
   ]
  },
  {
   "cell_type": "code",
   "execution_count": 25,
   "id": "a34955b7",
   "metadata": {},
   "outputs": [
    {
     "name": "stdout",
     "output_type": "stream",
     "text": [
      "10\n"
     ]
    }
   ],
   "source": [
    "text = \"a1b2c3d4\"\n",
    "total = sum(int(i) for i in text if i.isdigit())\n",
    "\n",
    "print(total)"
   ]
  },
  {
   "cell_type": "markdown",
   "id": "8a14b3de",
   "metadata": {},
   "source": [
    "### 24번 문제\n",
    "피보나치 수열의 첫 10개 항을 리스트에 저장하여 출력하세요."
   ]
  },
  {
   "cell_type": "code",
   "execution_count": 33,
   "id": "cc8b02fd",
   "metadata": {},
   "outputs": [
    {
     "name": "stdout",
     "output_type": "stream",
     "text": [
      "[0, 1, 1, 2, 3, 5, 8, 13, 21, 34]\n"
     ]
    }
   ],
   "source": [
    "fibonacci = [0, 1]\n",
    "\n",
    "for _ in range(8):\n",
    "    fibonacci.append(fibonacci[-2] + fibonacci[-1])\n",
    "\n",
    "print(fibonacci)"
   ]
  },
  {
   "cell_type": "code",
   "execution_count": 34,
   "id": "f859b11f",
   "metadata": {},
   "outputs": [
    {
     "name": "stdout",
     "output_type": "stream",
     "text": [
      "[0, 1, 1, 2, 3, 5, 8, 13, 21, 34]\n"
     ]
    }
   ],
   "source": [
    "fibonacci = [0, 1]\n",
    "\n",
    "while len(fibonacci) < 10:\n",
    "    fibonacci.append(fibonacci[-2] + fibonacci[-1])\n",
    "\n",
    "print(fibonacci)"
   ]
  },
  {
   "cell_type": "markdown",
   "id": "cf47b1ae",
   "metadata": {},
   "source": [
    "### 25번 문제\n",
    "영어 문장을 입력받아 단어 개수, 문자 개수(공백 제외), 모음 개수를 세는 프로그램을 작성하세요."
   ]
  },
  {
   "cell_type": "code",
   "execution_count": 57,
   "id": "92747767",
   "metadata": {},
   "outputs": [
    {
     "name": "stdout",
     "output_type": "stream",
     "text": [
      "4 14 5 7\n"
     ]
    }
   ],
   "source": [
    "sentence = input(\"문장을 입력하세요: \")\n",
    "word_count = len(sentence.split())\n",
    "char_count = len(sentence.replace(' ', ''))\n",
    "vowel_count = 0\n",
    "con_count = 0\n",
    "\n",
    "for vowel in sentence:\n",
    "    if vowel.upper() in 'AEIOU':\n",
    "        vowel_count += 1\n",
    "\n",
    "for con in sentence:\n",
    "    if con.isalpha() and con.upper() not in 'AEIOU':  # 공백 및 특수문자 제함\n",
    "        con_count += 1\n",
    "\n",
    "print(word_count, char_count, vowel_count, con_count)"
   ]
  },
  {
   "cell_type": "code",
   "execution_count": null,
   "id": "c2a4186d",
   "metadata": {},
   "outputs": [],
   "source": [
    "# 리스트 내포(List Comprehension)\n",
    "vowel_count = sum([1 for vowel in sentence if vowel.upper() in 'AEIOU'])\n",
    "con_count = sum([1 for con in sentence if con.isalpha() and con.upper() not in 'AEIOU'])"
   ]
  },
  {
   "cell_type": "markdown",
   "id": "65dcf00d",
   "metadata": {},
   "source": [
    "### 26번 문제\n",
    "2차원 리스트 [[1, 2, 3], [4, 5, 6], [7, 8, 9]]의 모든 원소의 합을 구하세요."
   ]
  },
  {
   "cell_type": "code",
   "execution_count": 2,
   "id": "aca9feba",
   "metadata": {},
   "outputs": [
    {
     "name": "stdout",
     "output_type": "stream",
     "text": [
      "45\n"
     ]
    }
   ],
   "source": [
    "matrix = [[1, 2, 3], [4, 5, 6], [7, 8, 9]]\n",
    "l1, l2, l3 = matrix\n",
    "total = sum(l1) + sum(l2) + sum(l3)\n",
    "print(total)"
   ]
  },
  {
   "cell_type": "code",
   "execution_count": 11,
   "id": "cb425c95",
   "metadata": {},
   "outputs": [
    {
     "name": "stdout",
     "output_type": "stream",
     "text": [
      "45\n"
     ]
    }
   ],
   "source": [
    "matrix = [[1, 2, 3], [4, 5, 6], [7, 8, 9]]\n",
    "total = 0\n",
    "\n",
    "for lst in matrix:\n",
    "    for i in lst:\n",
    "        total += i\n",
    "\n",
    "print(total)"
   ]
  },
  {
   "cell_type": "code",
   "execution_count": null,
   "id": "31978c57",
   "metadata": {},
   "outputs": [
    {
     "name": "stdout",
     "output_type": "stream",
     "text": [
      "45\n"
     ]
    }
   ],
   "source": [
    "# 리스트 내포(List Comprehension)\n",
    "matrix = [[1, 2, 3], [4, 5, 6], [7, 8, 9]]\n",
    "total = sum(i for lst in matrix for i in lst)  # 1단계부터 입력\n",
    "print(total)"
   ]
  },
  {
   "cell_type": "markdown",
   "id": "dea32b37",
   "metadata": {},
   "source": [
    "### 27번 문제\n",
    "문자열 리스트에서 가장 긴 문자열과 가장 짧은 문자열을 찾아 출력하세요."
   ]
  },
  {
   "cell_type": "code",
   "execution_count": null,
   "id": "28d8b0c0",
   "metadata": {},
   "outputs": [
    {
     "name": "stdout",
     "output_type": "stream",
     "text": [
      "strawberry kiwi\n"
     ]
    }
   ],
   "source": [
    "# 비교\n",
    "words = [\"apple\", \"banana\", \"kiwi\", \"strawberry\"]\n",
    "long_word = words[0]\n",
    "short_word = words[0]\n",
    "\n",
    "for idx in range(len(words)):\n",
    "    if len(words[idx]) > len(long_word):\n",
    "        long_word = words[idx]\n",
    "\n",
    "for idx in range(len(words)):\n",
    "    if len(words[idx]) < len(short_word):\n",
    "        short_word = words[idx]\n",
    "\n",
    "print(long_word, short_word)\n"
   ]
  },
  {
   "cell_type": "code",
   "execution_count": 36,
   "id": "54f1ad63",
   "metadata": {},
   "outputs": [
    {
     "name": "stdout",
     "output_type": "stream",
     "text": [
      "strawberry kiwi\n"
     ]
    }
   ],
   "source": [
    "# key 옵션\n",
    "words = [\"apple\", \"banana\", \"kiwi\", \"strawberry\"]\n",
    "long_word = max(words, key=len)\n",
    "short_word = min(words, key=len)\n",
    "\n",
    "print(long_word, short_word)"
   ]
  },
  {
   "cell_type": "markdown",
   "id": "88c6ac5b",
   "metadata": {},
   "source": [
    "### 28번 문제\n",
    "로또 번호 생성기를 만드세요. (1~45 중 중복 없는 6개 숫자)"
   ]
  },
  {
   "cell_type": "markdown",
   "id": "790bcc4c",
   "metadata": {},
   "source": [
    "### random 모듈\n",
    "- choice(seq) : 시퀀스(리스트, 문자열 등)에서 무작위 1개 선택\n",
    "    - random.choice(['a', 'b', 'c']) → 'b'\n",
    "- choices(seq, k=n) : 중복 허용, n개 선택\n",
    "    - random.choices(['a', 'b'], k=3) → ['b', 'a', 'a']\n",
    "- sample(seq, k=n) : 중복 없이, n개 선택\n",
    "    - random.sample([1, 2, 3, 4], 2) → [3, 1]"
   ]
  },
  {
   "cell_type": "code",
   "execution_count": 38,
   "id": "5c9030f3",
   "metadata": {},
   "outputs": [
    {
     "data": {
      "text/plain": [
       "[8, 4, 26, 17, 15, 40]"
      ]
     },
     "execution_count": 38,
     "metadata": {},
     "output_type": "execute_result"
    }
   ],
   "source": [
    "import random\n",
    "\n",
    "random.sample(range(1, 46), 6)"
   ]
  },
  {
   "cell_type": "code",
   "execution_count": 39,
   "id": "f18e70db",
   "metadata": {},
   "outputs": [
    {
     "data": {
      "text/plain": [
       "[22, 35, 42, 30, 31, 37]"
      ]
     },
     "execution_count": 39,
     "metadata": {},
     "output_type": "execute_result"
    }
   ],
   "source": [
    "from random import sample\n",
    "\n",
    "sample(range(1, 46), 6)"
   ]
  },
  {
   "cell_type": "markdown",
   "id": "4cdf20f0",
   "metadata": {},
   "source": [
    "### 29번 문제\n",
    "문자열을 입력받아 각 문자의 ASCII 값을 딕셔너리로 저장하여 출력하세요.\n",
    " - ord(), chr()"
   ]
  },
  {
   "cell_type": "code",
   "execution_count": 48,
   "id": "4ff89e6f",
   "metadata": {},
   "outputs": [
    {
     "name": "stdout",
     "output_type": "stream",
     "text": [
      "{'새': 49352, '싹': 49913}\n"
     ]
    }
   ],
   "source": [
    "text = input(\"문자열을 입력하세요: \")\n",
    "text_dict = {}\n",
    "\n",
    "for char in text:\n",
    "    text_dict[char] = ord(char)  # ordinal 서수(ASCII 테이블 몇 번째?)\n",
    "\n",
    "print(text_dict)\n"
   ]
  },
  {
   "cell_type": "markdown",
   "id": "d458db98",
   "metadata": {},
   "source": [
    "### 30번 문제\n",
    "주어진 문자열에서 가장 많이 나타나는 문자와 그 개수를 찾아 출력하세요."
   ]
  },
  {
   "cell_type": "code",
   "execution_count": 63,
   "id": "fb311dfb",
   "metadata": {},
   "outputs": [
    {
     "name": "stdout",
     "output_type": "stream",
     "text": [
      "i 4\n",
      "s 4\n"
     ]
    }
   ],
   "source": [
    "text = \"mississippi\"\n",
    "sample_list = list(set(text))\n",
    "text_dict = {}\n",
    "\n",
    "for char in sample_list:\n",
    "    text_dict[char] = text.count(char)\n",
    "\n",
    "max_char_count = max(text_dict.values())\n",
    "\n",
    "for k, v in text_dict.items():\n",
    "    if v == max_char_count:\n",
    "        print(k, v)"
   ]
  }
 ],
 "metadata": {
  "kernelspec": {
   "display_name": "Python 3",
   "language": "python",
   "name": "python3"
  },
  "language_info": {
   "codemirror_mode": {
    "name": "ipython",
    "version": 3
   },
   "file_extension": ".py",
   "mimetype": "text/x-python",
   "name": "python",
   "nbconvert_exporter": "python",
   "pygments_lexer": "ipython3",
   "version": "3.13.2"
  }
 },
 "nbformat": 4,
 "nbformat_minor": 5
}

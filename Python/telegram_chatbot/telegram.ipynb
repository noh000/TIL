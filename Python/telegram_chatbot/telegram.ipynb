{
 "cells": [
  {
   "cell_type": "markdown",
   "id": "cf709ae2",
   "metadata": {},
   "source": [
    "t.me/noh000_bot\n",
    "\n",
    "token to access the HTTP API:\n",
    "8262019376:AAHSdEsZK68wpIXrRouYs8sfkRiHw4GGo2w"
   ]
  },
  {
   "cell_type": "code",
   "execution_count": 9,
   "id": "feb705c3",
   "metadata": {},
   "outputs": [],
   "source": [
    "bot_token = '8262019376:AAHSdEsZK68wpIXrRouYs8sfkRiHw4GGo2w'\n",
    "my_id = '7792872229'"
   ]
  },
  {
   "cell_type": "code",
   "execution_count": 4,
   "id": "5e88eb28",
   "metadata": {},
   "outputs": [],
   "source": [
    "URL = f'https://api.telegram.org/bot{bot_token}'"
   ]
  },
  {
   "cell_type": "code",
   "execution_count": 7,
   "id": "c0cdc59c",
   "metadata": {},
   "outputs": [
    {
     "name": "stdout",
     "output_type": "stream",
     "text": [
      "https://api.telegram.org/bot8262019376:AAHSdEsZK68wpIXrRouYs8sfkRiHw4GGo2w/getMe\n"
     ]
    }
   ],
   "source": [
    "# 봇에 대한 정보\n",
    "print(URL + '/getMe')"
   ]
  },
  {
   "cell_type": "code",
   "execution_count": 8,
   "id": "26074d63",
   "metadata": {},
   "outputs": [
    {
     "name": "stdout",
     "output_type": "stream",
     "text": [
      "https://api.telegram.org/bot8262019376:AAHSdEsZK68wpIXrRouYs8sfkRiHw4GGo2w/getUpdates\n"
     ]
    }
   ],
   "source": [
    "# 봇의 모든 업데이트\n",
    "print(URL + '/getUpdates')"
   ]
  },
  {
   "cell_type": "code",
   "execution_count": 11,
   "id": "0fce1317",
   "metadata": {},
   "outputs": [
    {
     "name": "stdout",
     "output_type": "stream",
     "text": [
      "https://api.telegram.org/bot8262019376:AAHSdEsZK68wpIXrRouYs8sfkRiHw4GGo2w/sendMessage?chat_id=7792872229&text=안녕하세요!\n"
     ]
    }
   ],
   "source": [
    "# 메세지 보내기\n",
    "message = '안녕하세요!'\n",
    "print(URL + '/sendMessage' + f'?chat_id={my_id}&text={message}')"
   ]
  },
  {
   "cell_type": "code",
   "execution_count": 83,
   "id": "c132ba9f",
   "metadata": {},
   "outputs": [],
   "source": [
    "# 실행할 때 마다 업데이트 갱신\n",
    "import requests\n",
    "#               get      (요청내용)  json을 파이썬 객체로 변환 \n",
    "data = requests.get(URL + '/getUpdates').json()\n",
    "\n",
    "last_chat_id = data['result'][-1]['message']['from']['id']\n",
    "last_input_text = data['result'][-1]['message']['text']"
   ]
  },
  {
   "cell_type": "code",
   "execution_count": 84,
   "id": "c063b9e0",
   "metadata": {},
   "outputs": [],
   "source": [
    "import random\n",
    "\n",
    "if last_input_text == '로또' or last_input_text.lower() == 'lotto':\n",
    "    output_text = str(sorted((random.sample(range(1, 46), 6))))[1:-1]\n",
    "elif '안녕' in last_input_text:\n",
    "    output_text = '안녕하세요'"
   ]
  },
  {
   "cell_type": "code",
   "execution_count": 85,
   "id": "2d0d00fb",
   "metadata": {},
   "outputs": [
    {
     "data": {
      "text/plain": [
       "<Response [200]>"
      ]
     },
     "execution_count": 85,
     "metadata": {},
     "output_type": "execute_result"
    }
   ],
   "source": [
    "# 메세지 전송\n",
    "requests.get(URL + f'/sendMessage?chat_id={last_chat_id}&text={output_text}')\n",
    "requests.get(URL + '/sendMessage', {'chat_id': last_chat_id, 'text': output_text,})"
   ]
  }
 ],
 "metadata": {
  "kernelspec": {
   "display_name": "Python 3",
   "language": "python",
   "name": "python3"
  },
  "language_info": {
   "codemirror_mode": {
    "name": "ipython",
    "version": 3
   },
   "file_extension": ".py",
   "mimetype": "text/x-python",
   "name": "python",
   "nbconvert_exporter": "python",
   "pygments_lexer": "ipython3",
   "version": "3.13.2"
  }
 },
 "nbformat": 4,
 "nbformat_minor": 5
}

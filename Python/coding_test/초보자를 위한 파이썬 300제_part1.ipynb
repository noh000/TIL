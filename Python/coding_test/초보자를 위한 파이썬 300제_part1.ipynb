{
 "cells": [
  {
   "cell_type": "markdown",
   "id": "410464f2",
   "metadata": {},
   "source": [
    "# 초보자를 위한 파이썬 300제\n",
    "https://wikidocs.net/book/922"
   ]
  },
  {
   "cell_type": "code",
   "execution_count": null,
   "id": "30eda04e",
   "metadata": {},
   "outputs": [],
   "source": []
  }
 ],
 "metadata": {
  "language_info": {
   "name": "python"
  }
 },
 "nbformat": 4,
 "nbformat_minor": 5
}

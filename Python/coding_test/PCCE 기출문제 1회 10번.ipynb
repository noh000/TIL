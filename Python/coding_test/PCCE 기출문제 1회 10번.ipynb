{
 "cells": [
  {
   "cell_type": "code",
   "execution_count": 1,
   "id": "2ec80b5b",
   "metadata": {},
   "outputs": [],
   "source": [
    "data = [[1, 20300104, 100, 80], [2, 20300804, 847, 37], [3, 20300401, 10, 8]]"
   ]
  },
  {
   "cell_type": "code",
   "execution_count": 2,
   "id": "2b6dd9e8",
   "metadata": {},
   "outputs": [
    {
     "data": {
      "text/plain": [
       "[{'code': 1, 'date': 20300104, 'maximum': 100, 'remain': 80},\n",
       " {'code': 2, 'date': 20300804, 'maximum': 847, 'remain': 37},\n",
       " {'code': 3, 'date': 20300401, 'maximum': 10, 'remain': 8}]"
      ]
     },
     "execution_count": 2,
     "metadata": {},
     "output_type": "execute_result"
    }
   ],
   "source": [
    "# 데이터를 딕셔너리의 리스트로 만들어보자\n",
    "\n",
    "data_key = [\"code\", \"date\", \"maximum\", \"remain\"]\n",
    "data_list = []\n",
    "\n",
    "for i in range(len(data)):\n",
    "    data_list.append(\n",
    "    {data_key[0]: data[i][0], data_key[1]: data[i][1], data_key[2]: data[i][2], data_key[3]: data[i][3]}    \n",
    "    )\n",
    "\n",
    "data_list"
   ]
  },
  {
   "cell_type": "markdown",
   "id": "ddc73f15",
   "metadata": {},
   "source": [
    "✅ 이걸 이중 반복문으로 바꾸면?"
   ]
  },
  {
   "cell_type": "code",
   "execution_count": 3,
   "id": "b1b85a7d",
   "metadata": {},
   "outputs": [
    {
     "data": {
      "text/plain": [
       "[{'code': 1, 'date': 20300104, 'maximum': 100, 'remain': 80},\n",
       " {'code': 2, 'date': 20300804, 'maximum': 847, 'remain': 37},\n",
       " {'code': 3, 'date': 20300401, 'maximum': 10, 'remain': 8}]"
      ]
     },
     "execution_count": 3,
     "metadata": {},
     "output_type": "execute_result"
    }
   ],
   "source": [
    "data_key = [\"code\", \"date\", \"maximum\", \"remain\"]\n",
    "data_list = []\n",
    "\n",
    "for row in data:\n",
    "    temp_dict = {}\n",
    "    for i in range(len(data_key)):\n",
    "        temp_dict[data_key[i]] = row[i]\n",
    "    data_list.append(temp_dict)\n",
    "\n",
    "data_list"
   ]
  },
  {
   "cell_type": "markdown",
   "id": "ba4b6665",
   "metadata": {},
   "source": [
    "💡 추가 팁: zip()\n",
    "- 같은 인덱스끼리 묶어서 튜플로 반환\n",
    "- dict() 안에 쓰면 [\"code\", \"date\", ...]랑 [1, 20300104, ...]를 짝지어서 바로 딕셔너리로 만들어 줌\n",
    "- 가장 짧은 iterable 기준으로 맞춰짐\n",
    "\n",
    "가장 깔끔하고 파이썬다운 스타일이야 ✨"
   ]
  },
  {
   "cell_type": "code",
   "execution_count": 4,
   "id": "bea711d0",
   "metadata": {},
   "outputs": [
    {
     "data": {
      "text/plain": [
       "[{'code': 1, 'date': 20300104, 'maximum': 100, 'remain': 80},\n",
       " {'code': 2, 'date': 20300804, 'maximum': 847, 'remain': 37},\n",
       " {'code': 3, 'date': 20300401, 'maximum': 10, 'remain': 8}]"
      ]
     },
     "execution_count": 4,
     "metadata": {},
     "output_type": "execute_result"
    }
   ],
   "source": [
    "data_key = [\"code\", \"date\", \"maximum\", \"remain\"]\n",
    "data_list = []\n",
    "\n",
    "for row in data:\n",
    "    data_list.append(dict(zip(data_key, row)))\n",
    "\n",
    "data_list"
   ]
  },
  {
   "cell_type": "code",
   "execution_count": 5,
   "id": "29557d9f",
   "metadata": {},
   "outputs": [
    {
     "data": {
      "text/plain": [
       "[[1, 20300104, 100, 80], [3, 20300401, 10, 8]]"
      ]
     },
     "execution_count": 5,
     "metadata": {},
     "output_type": "execute_result"
    }
   ],
   "source": [
    "# 기준보다 작은 데이터 뽑기\n",
    "answer = []\n",
    "for i in range(3):\n",
    "    if data_list[i]['date'] < 20300501:    \n",
    "        row = [\n",
    "            data_list[i][\"code\"],\n",
    "            data_list[i][\"date\"],\n",
    "            data_list[i][\"maximum\"],\n",
    "            data_list[i][\"remain\"]\n",
    "        ]\n",
    "        answer.append(row)\n",
    "        # answer.append(list(data_list[i].values())) \n",
    "        # 파이썬 3.7 이상에서는 입력한 순서를 보통 유지 코딩 테스트에서는 정확한 순서를 보장하는 코드를 쓰는 게 필요\n",
    "\n",
    "answer\n"
   ]
  },
  {
   "cell_type": "code",
   "execution_count": 6,
   "id": "bf455890",
   "metadata": {},
   "outputs": [
    {
     "name": "stdout",
     "output_type": "stream",
     "text": [
      "[[3, 20300401, 10, 8], [1, 20300104, 100, 80]]\n"
     ]
    }
   ],
   "source": [
    "r_idx = data_key.index('remain')\n",
    "answer.sort(key=lambda row: row[r_idx])\n",
    "print(answer)\n",
    "\n",
    "# 리스트 안에 리스트가 있는 구조일 때,\n",
    "# 안쪽 리스트의 특정 위치의 값 하나를 기준으로 정렬하고 싶다면\n",
    "\n",
    "# list.sort(key=lambda row: row[idx])"
   ]
  },
  {
   "cell_type": "code",
   "execution_count": null,
   "id": "9c80b8b2",
   "metadata": {},
   "outputs": [],
   "source": [
    "# 최종 코드\n",
    "def solution(data, ext, val_ext, sort_by):\n",
    "    data_key = [\"code\", \"date\", \"maximum\", \"remain\"]\n",
    "    data_list = []\n",
    "\n",
    "    for i in range(len(data)):\n",
    "        data_list.append(\n",
    "            {data_key[0]: data[i][0], data_key[1]: data[i][1], data_key[2]: data[i][2], data_key[3]: data[i][3]}\n",
    "        ) \n",
    "    \n",
    "    answer = []\n",
    "    for i in range(len(data)):\n",
    "        if data_list[i][ext] < val_ext:   \n",
    "            row = [\n",
    "                data_list[i][\"code\"],\n",
    "                data_list[i][\"date\"],\n",
    "                data_list[i][\"maximum\"],\n",
    "                data_list[i][\"remain\"]\n",
    "            ]\n",
    "            answer.append(row)\n",
    "    \n",
    "    sort_idx = data_key.index(sort_by)\n",
    "    answer.sort(key=lambda row: row[sort_idx])\n",
    "    return answer"
   ]
  },
  {
   "cell_type": "code",
   "execution_count": null,
   "id": "18f537f6",
   "metadata": {},
   "outputs": [],
   "source": [
    "# 딕셔너리 없이 인덱스만으로 풀어보자"
   ]
  },
  {
   "cell_type": "code",
   "execution_count": null,
   "id": "91880966",
   "metadata": {},
   "outputs": [],
   "source": []
  },
  {
   "cell_type": "code",
   "execution_count": null,
   "id": "8f651d2c",
   "metadata": {},
   "outputs": [],
   "source": []
  },
  {
   "cell_type": "code",
   "execution_count": null,
   "id": "7a7622d4",
   "metadata": {},
   "outputs": [],
   "source": []
  },
  {
   "cell_type": "code",
   "execution_count": null,
   "id": "55a5bd24",
   "metadata": {},
   "outputs": [],
   "source": []
  },
  {
   "cell_type": "code",
   "execution_count": null,
   "id": "58ce4768",
   "metadata": {},
   "outputs": [],
   "source": []
  },
  {
   "cell_type": "code",
   "execution_count": null,
   "id": "dc903e2b",
   "metadata": {},
   "outputs": [],
   "source": []
  },
  {
   "cell_type": "code",
   "execution_count": null,
   "id": "de989a99",
   "metadata": {},
   "outputs": [],
   "source": []
  },
  {
   "cell_type": "code",
   "execution_count": null,
   "id": "b6913957",
   "metadata": {},
   "outputs": [],
   "source": []
  },
  {
   "cell_type": "code",
   "execution_count": null,
   "id": "b8d3595b",
   "metadata": {},
   "outputs": [],
   "source": []
  },
  {
   "cell_type": "code",
   "execution_count": null,
   "id": "b224a251",
   "metadata": {},
   "outputs": [],
   "source": [
    "def solution(data, ext, val_ext, sort_by):\n",
    "    data_key = [\"code\", \"date\", \"maximum\", \"remain\"]\n",
    "    \n",
    "    ext_idx = data_key.index(ext)       # 필터링 기준 인덱스\n",
    "    sort_idx = data_key.index(sort_by)  # 정렬 기준 인덱스\n",
    "\n",
    "    answer = []\n",
    "    for row in data:\n",
    "        if row[ext_idx] < val_ext:\n",
    "            answer.append(row)\n",
    "\n",
    "    answer.sort(key=lambda r: r[sort_idx])\n",
    "    return answer\n"
   ]
  }
 ],
 "metadata": {
  "kernelspec": {
   "display_name": "Python 3",
   "language": "python",
   "name": "python3"
  },
  "language_info": {
   "codemirror_mode": {
    "name": "ipython",
    "version": 3
   },
   "file_extension": ".py",
   "mimetype": "text/x-python",
   "name": "python",
   "nbconvert_exporter": "python",
   "pygments_lexer": "ipython3",
   "version": "3.13.2"
  }
 },
 "nbformat": 4,
 "nbformat_minor": 5
}
